{
 "cells": [
  {
   "cell_type": "code",
   "execution_count": 16,
   "id": "77410501",
   "metadata": {},
   "outputs": [],
   "source": [
    "import openai\n",
    "\n",
    "client = openai.OpenAI()\n",
    "messages = []"
   ]
  },
  {
   "cell_type": "code",
   "execution_count": 17,
   "id": "50447ab3",
   "metadata": {},
   "outputs": [],
   "source": [
    "def call_ai():\n",
    "     response = client.chat.completions.create(\n",
    "        model=\"gpt-4o-mini\",\n",
    "        messages=messages,\n",
    "     )\n",
    "     message = response.choices[0].message.content\n",
    "     messages.append({\"role\": \"assistant\", \"content\": message})\n",
    "     print(f\"Ai: {message}\")"
   ]
  },
  {
   "cell_type": "code",
   "execution_count": 18,
   "id": "57b50f82",
   "metadata": {},
   "outputs": [
    {
     "name": "stdout",
     "output_type": "stream",
     "text": [
      "user: 내 이름은 기원이야\n",
      "Ai: 안녕하세요, 기원님! 어떻게 도와드릴까요?\n",
      "user: 내 이름은 뭐야?\n",
      "Ai: 당신의 이름은 기원이세요. 맞나요?\n",
      "user: 나는 한국 출신이야\n",
      "Ai: 그렇군요! 한국은 아름다운 문화와 역사를 가진 나라죠. 한국에 대해 이야기해보고 싶은 주제가 있나요?\n",
      "user: 내가 물어본 첫번째 질문과 내가 태어난 나라와 가장 가까운 섬이 어디야?\n",
      "Ai: 당신이 한국 출신이라면, 한국에서 가장 가까운 섬 중 하나는 **제주도**입니다. 제주도가 한국 본토에서 떨어져 있지만, 한국에서 가장 큰 섬으로 유명하죠. 다른 질문이 있으신가요?\n"
     ]
    }
   ],
   "source": [
    "while True:\n",
    "    message = input(\"Send a message to the LLM...\")\n",
    "    if message == 'quit' or message == 'q':\n",
    "        break\n",
    "    else :\n",
    "        messages.append({\"role\": \"user\", \"content\": message})\n",
    "        print(f\"user: {message}\")\n",
    "        call_ai()"
   ]
  }
 ],
 "metadata": {
  "kernelspec": {
   "display_name": "my-first-agent",
   "language": "python",
   "name": "python3"
  },
  "language_info": {
   "codemirror_mode": {
    "name": "ipython",
    "version": 3
   },
   "file_extension": ".py",
   "mimetype": "text/x-python",
   "name": "python",
   "nbconvert_exporter": "python",
   "pygments_lexer": "ipython3",
   "version": "3.13.3"
  }
 },
 "nbformat": 4,
 "nbformat_minor": 5
}
